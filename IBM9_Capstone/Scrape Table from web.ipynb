{
 "cells": [
  {
   "cell_type": "code",
   "execution_count": 27,
   "metadata": {},
   "outputs": [
    {
     "name": "stdout",
     "output_type": "stream",
     "text": [
      "200\n"
     ]
    }
   ],
   "source": [
    "#https://www.freecodecamp.org/news/scraping-wikipedia-articles-with-python/\n",
    "#https://towardsdatascience.com/web-scraping-html-tables-with-python-c9baba21059\n",
    "import requests\n",
    "\n",
    "response = requests.get(\n",
    "    url=\"https://en.wikipedia.org/wiki/List_of_postal_codes_of_Canada:_M\",\n",
    ")\n",
    "print(response.status_code)"
   ]
  },
  {
   "cell_type": "code",
   "execution_count": 9,
   "metadata": {},
   "outputs": [],
   "source": [
    "#!pip install beautifulsoup4\n",
    "from bs4 import BeautifulSoup"
   ]
  },
  {
   "cell_type": "code",
   "execution_count": 12,
   "metadata": {},
   "outputs": [
    {
     "name": "stdout",
     "output_type": "stream",
     "text": [
      "List of postal codes of Canada: M\n"
     ]
    }
   ],
   "source": [
    "soup = BeautifulSoup(response.content, 'html.parser')\n",
    "title = soup.find(id=\"firstHeading\")\n",
    "print(title.string)"
   ]
  },
  {
   "cell_type": "code",
   "execution_count": 17,
   "metadata": {},
   "outputs": [
    {
     "name": "stdout",
     "output_type": "stream",
     "text": [
      "<a href=\"/wiki/List_of_postal_codes_of_Canada:_H\" title=\"List of postal codes of Canada: H\">H</a>\n"
     ]
    }
   ],
   "source": [
    "# Get all the links\n",
    "import random\n",
    "\n",
    "allLinks = soup.find(id=\"bodyContent\").find_all(\"a\")\n",
    "random.shuffle(allLinks)\n",
    "linkToScrape = 0\n",
    "\n",
    "for link in allLinks:\n",
    "    # We are only interested in other wiki articles\n",
    "    if link['href'].find(\"/wiki/\") == -1: \n",
    "        continue\n",
    "\n",
    "    # Use this link to scrape\n",
    "    linkToScrape = link\n",
    "    break\n",
    "\n",
    "print(linkToScrape)"
   ]
  },
  {
   "cell_type": "code",
   "execution_count": 28,
   "metadata": {},
   "outputs": [],
   "source": [
    "import requests\n",
    "import lxml.html as lh\n",
    "import pandas as pd\n",
    "\n",
    "url='https://en.wikipedia.org/wiki/List_of_postal_codes_of_Canada:_M'\n",
    "#Create a handle, page, to handle the contents of the website\n",
    "page = requests.get(url)\n",
    "#Store the contents of the website under doc\n",
    "doc = lh.fromstring(page.content)\n",
    "#Parse data that are stored between <tr>..</tr> of HTML\n",
    "tr_elements = doc.xpath('//tr')"
   ]
  },
  {
   "cell_type": "code",
   "execution_count": 29,
   "metadata": {},
   "outputs": [
    {
     "data": {
      "text/plain": [
       "[3, 3, 3, 3, 3, 3, 3, 3, 3, 3, 3, 3]"
      ]
     },
     "execution_count": 29,
     "metadata": {},
     "output_type": "execute_result"
    }
   ],
   "source": [
    "#Check the length of the first 12 rows\n",
    "[len(T) for T in tr_elements[:12]]"
   ]
  },
  {
   "cell_type": "code",
   "execution_count": 30,
   "metadata": {},
   "outputs": [
    {
     "name": "stdout",
     "output_type": "stream",
     "text": [
      "1:\"Postal Code\n",
      "\"\n",
      "2:\"Borough\n",
      "\"\n",
      "3:\"Neighbourhood\n",
      "\"\n"
     ]
    }
   ],
   "source": [
    "tr_elements = doc.xpath('//tr')\n",
    "#Create empty list\n",
    "col=[]\n",
    "i=0\n",
    "#For each row, store each first element (header) and an empty list\n",
    "for t in tr_elements[0]:\n",
    "    i+=1\n",
    "    name=t.text_content()\n",
    "    print ('%d:\"%s\"'%(i,name))\n",
    "    col.append((name,[]))"
   ]
  },
  {
   "cell_type": "code",
   "execution_count": 31,
   "metadata": {},
   "outputs": [],
   "source": [
    "#Since out first row is the header, data is stored on the second row onwards\n",
    "for j in range(1,len(tr_elements)):\n",
    "    #T is our j'th row\n",
    "    T=tr_elements[j]\n",
    "    \n",
    "    #If row is not of size 10, the //tr data is not from our table \n",
    "    if len(T)!=10:\n",
    "        break\n",
    "    \n",
    "    #i is the index of our column\n",
    "    i=0\n",
    "    \n",
    "    #Iterate through each element of the row\n",
    "    for t in T.iterchildren():\n",
    "        data=t.text_content() \n",
    "        #Check if row is empty\n",
    "        if i>0:\n",
    "        #Convert any numerical value to integers\n",
    "            try:\n",
    "                data=int(data)\n",
    "            except:\n",
    "                pass\n",
    "        #Append the data to the empty list of the i'th column\n",
    "        col[i][1].append(data)\n",
    "        #Increment i for the next column\n",
    "        i+=1"
   ]
  },
  {
   "cell_type": "code",
   "execution_count": 32,
   "metadata": {},
   "outputs": [],
   "source": [
    "Dict={title:column for (title,column) in col}\n",
    "df=pd.DataFrame(Dict)"
   ]
  },
  {
   "cell_type": "code",
   "execution_count": 33,
   "metadata": {},
   "outputs": [
    {
     "data": {
      "text/html": [
       "<div>\n",
       "<style scoped>\n",
       "    .dataframe tbody tr th:only-of-type {\n",
       "        vertical-align: middle;\n",
       "    }\n",
       "\n",
       "    .dataframe tbody tr th {\n",
       "        vertical-align: top;\n",
       "    }\n",
       "\n",
       "    .dataframe thead th {\n",
       "        text-align: right;\n",
       "    }\n",
       "</style>\n",
       "<table border=\"1\" class=\"dataframe\">\n",
       "  <thead>\n",
       "    <tr style=\"text-align: right;\">\n",
       "      <th></th>\n",
       "      <th>Postal Code\\n</th>\n",
       "      <th>Borough\\n</th>\n",
       "      <th>Neighbourhood\\n</th>\n",
       "    </tr>\n",
       "  </thead>\n",
       "  <tbody>\n",
       "  </tbody>\n",
       "</table>\n",
       "</div>"
      ],
      "text/plain": [
       "Empty DataFrame\n",
       "Columns: [Postal Code\n",
       ", Borough\n",
       ", Neighbourhood\n",
       "]\n",
       "Index: []"
      ]
     },
     "execution_count": 33,
     "metadata": {},
     "output_type": "execute_result"
    }
   ],
   "source": [
    "df.head()"
   ]
  },
  {
   "cell_type": "code",
   "execution_count": null,
   "metadata": {},
   "outputs": [],
   "source": []
  },
  {
   "cell_type": "code",
   "execution_count": 35,
   "metadata": {},
   "outputs": [
    {
     "data": {
      "text/plain": [
       "[<Element tr at 0x1c7e2e77c20>,\n",
       " <Element tr at 0x1c7e2e77b80>,\n",
       " <Element tr at 0x1c7e2e77f40>,\n",
       " <Element tr at 0x1c7e2e77f90>,\n",
       " <Element tr at 0x1c7e2e77bd0>,\n",
       " <Element tr at 0x1c7e2e77b30>,\n",
       " <Element tr at 0x1c7e2e77cc0>,\n",
       " <Element tr at 0x1c7e2e77c70>,\n",
       " <Element tr at 0x1c7e1e44400>,\n",
       " <Element tr at 0x1c7e2e7a270>,\n",
       " <Element tr at 0x1c7e2e7a040>,\n",
       " <Element tr at 0x1c7e2e7a090>,\n",
       " <Element tr at 0x1c7e2e7a0e0>,\n",
       " <Element tr at 0x1c7e2e7a130>,\n",
       " <Element tr at 0x1c7e2e7a810>,\n",
       " <Element tr at 0x1c7e2e7a8b0>,\n",
       " <Element tr at 0x1c7e2e7a860>,\n",
       " <Element tr at 0x1c7e2e7a950>,\n",
       " <Element tr at 0x1c7e2e7a9a0>,\n",
       " <Element tr at 0x1c7e2e7a900>,\n",
       " <Element tr at 0x1c7e2e7aa40>,\n",
       " <Element tr at 0x1c7e2e7a9f0>,\n",
       " <Element tr at 0x1c7e2e7aae0>,\n",
       " <Element tr at 0x1c7e2e7a400>,\n",
       " <Element tr at 0x1c7e2e7a4f0>,\n",
       " <Element tr at 0x1c7e2e7a540>,\n",
       " <Element tr at 0x1c7e2e7a590>,\n",
       " <Element tr at 0x1c7e2e7a5e0>,\n",
       " <Element tr at 0x1c7e2e7a3b0>,\n",
       " <Element tr at 0x1c7e2e7a360>,\n",
       " <Element tr at 0x1c7e2e7a310>,\n",
       " <Element tr at 0x1c7e2e7a2c0>,\n",
       " <Element tr at 0x1c7e2e7a4a0>,\n",
       " <Element tr at 0x1c7e2e7a450>,\n",
       " <Element tr at 0x1c7e2ea7d10>,\n",
       " <Element tr at 0x1c7e1e5b310>,\n",
       " <Element tr at 0x1c7e2f679f0>,\n",
       " <Element tr at 0x1c7e2f67cc0>,\n",
       " <Element tr at 0x1c7e2f67720>,\n",
       " <Element tr at 0x1c7e2f70b80>,\n",
       " <Element tr at 0x1c7e2f70b30>,\n",
       " <Element tr at 0x1c7e2f70220>,\n",
       " <Element tr at 0x1c7e2f70900>,\n",
       " <Element tr at 0x1c7e2f70e50>,\n",
       " <Element tr at 0x1c7e2f70c20>,\n",
       " <Element tr at 0x1c7e2f70c70>,\n",
       " <Element tr at 0x1c7e2f70cc0>,\n",
       " <Element tr at 0x1c7e2f70ef0>,\n",
       " <Element tr at 0x1c7e2f700e0>,\n",
       " <Element tr at 0x1c7e2f70f40>,\n",
       " <Element tr at 0x1c7e2f70f90>,\n",
       " <Element tr at 0x1c7e2f80040>,\n",
       " <Element tr at 0x1c7e2f80090>,\n",
       " <Element tr at 0x1c7e2f800e0>,\n",
       " <Element tr at 0x1c7e2f80130>,\n",
       " <Element tr at 0x1c7e2f80180>,\n",
       " <Element tr at 0x1c7e2f801d0>,\n",
       " <Element tr at 0x1c7e2f80220>,\n",
       " <Element tr at 0x1c7e2f80270>,\n",
       " <Element tr at 0x1c7e2f802c0>,\n",
       " <Element tr at 0x1c7e2f80310>,\n",
       " <Element tr at 0x1c7e2f80360>,\n",
       " <Element tr at 0x1c7e2f803b0>,\n",
       " <Element tr at 0x1c7e2f80400>,\n",
       " <Element tr at 0x1c7e2f80450>,\n",
       " <Element tr at 0x1c7e2f804a0>,\n",
       " <Element tr at 0x1c7e2f804f0>,\n",
       " <Element tr at 0x1c7e2f80540>,\n",
       " <Element tr at 0x1c7e2f80590>,\n",
       " <Element tr at 0x1c7e2f805e0>,\n",
       " <Element tr at 0x1c7e2f80630>,\n",
       " <Element tr at 0x1c7e2f80680>,\n",
       " <Element tr at 0x1c7e2f806d0>,\n",
       " <Element tr at 0x1c7e2f80720>,\n",
       " <Element tr at 0x1c7e2f80770>,\n",
       " <Element tr at 0x1c7e2f807c0>,\n",
       " <Element tr at 0x1c7e2f80810>,\n",
       " <Element tr at 0x1c7e2f80860>,\n",
       " <Element tr at 0x1c7e2f808b0>,\n",
       " <Element tr at 0x1c7e2f80900>,\n",
       " <Element tr at 0x1c7e2f80950>,\n",
       " <Element tr at 0x1c7e2f809a0>,\n",
       " <Element tr at 0x1c7e2f809f0>,\n",
       " <Element tr at 0x1c7e2f80a40>,\n",
       " <Element tr at 0x1c7e2f80a90>,\n",
       " <Element tr at 0x1c7e2f80ae0>,\n",
       " <Element tr at 0x1c7e2f80b30>,\n",
       " <Element tr at 0x1c7e2f80b80>,\n",
       " <Element tr at 0x1c7e2f80bd0>,\n",
       " <Element tr at 0x1c7e2f80c20>,\n",
       " <Element tr at 0x1c7e2f80c70>,\n",
       " <Element tr at 0x1c7e2f80cc0>,\n",
       " <Element tr at 0x1c7e2f80d10>,\n",
       " <Element tr at 0x1c7e2f80d60>,\n",
       " <Element tr at 0x1c7e2f80db0>,\n",
       " <Element tr at 0x1c7e2f80e00>,\n",
       " <Element tr at 0x1c7e2f80e50>,\n",
       " <Element tr at 0x1c7e2f80ea0>,\n",
       " <Element tr at 0x1c7e2f80ef0>,\n",
       " <Element tr at 0x1c7e2f80f40>,\n",
       " <Element tr at 0x1c7e2f80f90>,\n",
       " <Element tr at 0x1c7e2f7f040>,\n",
       " <Element tr at 0x1c7e2f7f090>,\n",
       " <Element tr at 0x1c7e2f7f0e0>,\n",
       " <Element tr at 0x1c7e2f7f130>,\n",
       " <Element tr at 0x1c7e2f7f180>,\n",
       " <Element tr at 0x1c7e2f7f1d0>,\n",
       " <Element tr at 0x1c7e2f7f220>,\n",
       " <Element tr at 0x1c7e2f7f270>,\n",
       " <Element tr at 0x1c7e2f7f2c0>,\n",
       " <Element tr at 0x1c7e2f7f310>,\n",
       " <Element tr at 0x1c7e2f7f360>,\n",
       " <Element tr at 0x1c7e2f7f3b0>,\n",
       " <Element tr at 0x1c7e2f7f400>,\n",
       " <Element tr at 0x1c7e2f7f450>,\n",
       " <Element tr at 0x1c7e2f7f4a0>,\n",
       " <Element tr at 0x1c7e2f7f4f0>,\n",
       " <Element tr at 0x1c7e2f7f540>,\n",
       " <Element tr at 0x1c7e2f7f590>,\n",
       " <Element tr at 0x1c7e2f7f5e0>,\n",
       " <Element tr at 0x1c7e2f7f630>,\n",
       " <Element tr at 0x1c7e2f7f680>,\n",
       " <Element tr at 0x1c7e2f7f6d0>,\n",
       " <Element tr at 0x1c7e2f7f720>,\n",
       " <Element tr at 0x1c7e2f7f770>,\n",
       " <Element tr at 0x1c7e2f7f7c0>,\n",
       " <Element tr at 0x1c7e2f7f810>,\n",
       " <Element tr at 0x1c7e2f7f860>,\n",
       " <Element tr at 0x1c7e2f7f8b0>,\n",
       " <Element tr at 0x1c7e2f7f900>,\n",
       " <Element tr at 0x1c7e2f7f950>,\n",
       " <Element tr at 0x1c7e2f7f9a0>,\n",
       " <Element tr at 0x1c7e2f7f9f0>,\n",
       " <Element tr at 0x1c7e2f7fa40>,\n",
       " <Element tr at 0x1c7e2f7fa90>,\n",
       " <Element tr at 0x1c7e2f7fae0>,\n",
       " <Element tr at 0x1c7e2f7fb30>,\n",
       " <Element tr at 0x1c7e2f7fb80>,\n",
       " <Element tr at 0x1c7e2f7fbd0>,\n",
       " <Element tr at 0x1c7e2f7fc20>,\n",
       " <Element tr at 0x1c7e2f7fc70>,\n",
       " <Element tr at 0x1c7e2f7fcc0>,\n",
       " <Element tr at 0x1c7e2f7fd10>,\n",
       " <Element tr at 0x1c7e2f7fd60>,\n",
       " <Element tr at 0x1c7e2f7fdb0>,\n",
       " <Element tr at 0x1c7e2f7fe00>,\n",
       " <Element tr at 0x1c7e2f7fe50>,\n",
       " <Element tr at 0x1c7e2f7fea0>,\n",
       " <Element tr at 0x1c7e2f7fef0>,\n",
       " <Element tr at 0x1c7e2f7ff40>,\n",
       " <Element tr at 0x1c7e2f7ff90>,\n",
       " <Element tr at 0x1c7e2f82040>,\n",
       " <Element tr at 0x1c7e2f82090>,\n",
       " <Element tr at 0x1c7e2f820e0>,\n",
       " <Element tr at 0x1c7e2f82130>,\n",
       " <Element tr at 0x1c7e2f82180>,\n",
       " <Element tr at 0x1c7e2f821d0>,\n",
       " <Element tr at 0x1c7e2f82220>,\n",
       " <Element tr at 0x1c7e2f82270>,\n",
       " <Element tr at 0x1c7e2f822c0>,\n",
       " <Element tr at 0x1c7e2f82310>,\n",
       " <Element tr at 0x1c7e2f82360>,\n",
       " <Element tr at 0x1c7e2f823b0>,\n",
       " <Element tr at 0x1c7e2f82400>,\n",
       " <Element tr at 0x1c7e2f82450>,\n",
       " <Element tr at 0x1c7e2f824a0>,\n",
       " <Element tr at 0x1c7e2f824f0>,\n",
       " <Element tr at 0x1c7e2f82540>,\n",
       " <Element tr at 0x1c7e2f82590>,\n",
       " <Element tr at 0x1c7e2f825e0>,\n",
       " <Element tr at 0x1c7e2f82630>,\n",
       " <Element tr at 0x1c7e2f82680>,\n",
       " <Element tr at 0x1c7e2f826d0>,\n",
       " <Element tr at 0x1c7e2f82720>,\n",
       " <Element tr at 0x1c7e2f82770>,\n",
       " <Element tr at 0x1c7e2f827c0>,\n",
       " <Element tr at 0x1c7e2f82810>,\n",
       " <Element tr at 0x1c7e2f82860>,\n",
       " <Element tr at 0x1c7e2f828b0>,\n",
       " <Element tr at 0x1c7e2f82900>,\n",
       " <Element tr at 0x1c7e2f82950>,\n",
       " <Element tr at 0x1c7e2f829a0>,\n",
       " <Element tr at 0x1c7e2f829f0>,\n",
       " <Element tr at 0x1c7e2f82a40>,\n",
       " <Element tr at 0x1c7e2f82a90>]"
      ]
     },
     "execution_count": 35,
     "metadata": {},
     "output_type": "execute_result"
    }
   ],
   "source": [
    "tr_elements"
   ]
  },
  {
   "cell_type": "code",
   "execution_count": 36,
   "metadata": {},
   "outputs": [],
   "source": [
    "#https://medium.com/@sateesh.gmc/how-to-scrape-wikipedia-table-using-python-beautiful-soup-cd0d8ee1a319\n",
    "import requests\n",
    "from bs4  import BeautifulSoup"
   ]
  },
  {
   "cell_type": "code",
   "execution_count": 37,
   "metadata": {},
   "outputs": [
    {
     "data": {
      "text/plain": [
       "<Response [200]>"
      ]
     },
     "execution_count": 37,
     "metadata": {},
     "output_type": "execute_result"
    }
   ],
   "source": [
    "url = 'https://en.wikipedia.org/wiki/List_of_postal_codes_of_Canada:_M'\n",
    "s = requests.Session()\n",
    "response = s.get(url, timeout=10)\n",
    "response"
   ]
  },
  {
   "cell_type": "code",
   "execution_count": 38,
   "metadata": {},
   "outputs": [
    {
     "data": {
      "text/plain": [
       "'List of postal codes of Canada: M - Wikipedia'"
      ]
     },
     "execution_count": 38,
     "metadata": {},
     "output_type": "execute_result"
    }
   ],
   "source": [
    "soup.title.string"
   ]
  },
  {
   "cell_type": "code",
   "execution_count": 39,
   "metadata": {},
   "outputs": [],
   "source": [
    "right_table = soup.find('table',{\"class\":'wikitable sortable'})"
   ]
  },
  {
   "cell_type": "code",
   "execution_count": 40,
   "metadata": {},
   "outputs": [
    {
     "data": {
      "text/plain": [
       "3"
      ]
     },
     "execution_count": 40,
     "metadata": {},
     "output_type": "execute_result"
    }
   ],
   "source": [
    "# Number of columns in the table\n",
    "for row in right_table.findAll(\"tr\"):\n",
    "    cells = row.findAll('td')\n",
    "\n",
    "len(cells)"
   ]
  },
  {
   "cell_type": "code",
   "execution_count": 42,
   "metadata": {},
   "outputs": [
    {
     "data": {
      "text/plain": [
       "181"
      ]
     },
     "execution_count": 42,
     "metadata": {},
     "output_type": "execute_result"
    }
   ],
   "source": [
    "# number of rows in the table including header\n",
    "rows = right_table.findAll(\"tr\")\n",
    "len(rows)"
   ]
  },
  {
   "cell_type": "code",
   "execution_count": 43,
   "metadata": {},
   "outputs": [
    {
     "name": "stdout",
     "output_type": "stream",
     "text": [
      "['Postal Code', 'Borough', 'Neighbourhood']\n",
      "------------\n",
      "3\n"
     ]
    }
   ],
   "source": [
    "# header attributes of the table\n",
    "header = [th.text.rstrip() for th in rows[0].find_all('th')]\n",
    "print(header)\n",
    "print('------------')\n",
    "print(len(header))"
   ]
  },
  {
   "cell_type": "code",
   "execution_count": 44,
   "metadata": {},
   "outputs": [],
   "source": [
    "lst_data = []\n",
    "for row in rows[1:]:\n",
    "            data = [d.text.rstrip() for d in row.find_all('td')]\n",
    "            lst_data.append(data)"
   ]
  },
  {
   "cell_type": "code",
   "execution_count": 45,
   "metadata": {},
   "outputs": [],
   "source": [
    "# select also works as find_all\n",
    "lst_data1 = []\n",
    "for row in rows[1:]:\n",
    "            data = [d.text.rstrip() for d in row.select('td')]\n",
    "            lst_data1.append(data)"
   ]
  },
  {
   "cell_type": "code",
   "execution_count": 46,
   "metadata": {},
   "outputs": [
    {
     "data": {
      "text/plain": [
       "[['M1A', 'Not assigned', 'Not assigned'],\n",
       " ['M2A', 'Not assigned', 'Not assigned'],\n",
       " ['M3A', 'North York', 'Parkwoods']]"
      ]
     },
     "execution_count": 46,
     "metadata": {},
     "output_type": "execute_result"
    }
   ],
   "source": [
    "# sample records\n",
    "lst_data1[0:3]"
   ]
  },
  {
   "cell_type": "code",
   "execution_count": 48,
   "metadata": {},
   "outputs": [
    {
     "name": "stdout",
     "output_type": "stream",
     "text": [
      "Number of row : 181\n",
      "----------------\n",
      "<tr>\n",
      "<td>M1A\n",
      "</td>\n",
      "<td>Not assigned\n",
      "</td>\n",
      "<td>Not assigned\n",
      "</td></tr>\n",
      "----------------\n",
      "Second Attribute is has link reference\n",
      "----------------\n",
      "[]\n",
      "----------------\n",
      "None\n"
     ]
    }
   ],
   "source": [
    "# html of each table record\n",
    "\n",
    "list_row = []\n",
    "for row in right_table.findAll(\"tr\"):\n",
    "    list_row.append(row)\n",
    "\n",
    "    \n",
    "print('Number of row :',len(list_row))\n",
    "print('----------------')\n",
    "print(list_row[1])\n",
    "print('----------------')\n",
    "print('Second Attribute is has link reference')\n",
    "print('----------------')\n",
    "print(list_row[1].findAll('th'))\n",
    "print('----------------')\n",
    "print(list_row[1].find('a'))"
   ]
  },
  {
   "cell_type": "code",
   "execution_count": 53,
   "metadata": {},
   "outputs": [],
   "source": [
    "\n",
    "#Scrap the data and append to respective lists\n",
    "\n",
    "c1=[]\n",
    "c2=[]\n",
    "c3=[]\n",
    "\n",
    "for row in right_table.findAll(\"tr\"):\n",
    "    cells = row.findAll('td')\n",
    "    if len(cells)==6: #Only extract table body not heading\n",
    "        c1.append(cells[0].find(text=True))\n",
    "        c2.append(cells[1].find('a').text)  # fetch the text of the url in td tag. \n",
    "        c3.append(cells[2].find(text=True))"
   ]
  },
  {
   "cell_type": "code",
   "execution_count": 54,
   "metadata": {},
   "outputs": [
    {
     "data": {
      "text/plain": [
       "{'Postal Code': 0, 'Borough': 0, 'Neighbourhood': 0}"
      ]
     },
     "execution_count": 54,
     "metadata": {},
     "output_type": "execute_result"
    }
   ],
   "source": [
    "# create a dictionary\n",
    "d = dict([(x,0) for x in header])\n",
    "d"
   ]
  },
  {
   "cell_type": "code",
   "execution_count": 55,
   "metadata": {},
   "outputs": [],
   "source": [
    "# append dictionary with corresponding data list.\n",
    "d['Postal Code'] = c1\n",
    "d['Borough']= c2\n",
    "d['Neighbourhood']=c3"
   ]
  },
  {
   "cell_type": "code",
   "execution_count": 56,
   "metadata": {},
   "outputs": [
    {
     "data": {
      "text/html": [
       "<div>\n",
       "<style scoped>\n",
       "    .dataframe tbody tr th:only-of-type {\n",
       "        vertical-align: middle;\n",
       "    }\n",
       "\n",
       "    .dataframe tbody tr th {\n",
       "        vertical-align: top;\n",
       "    }\n",
       "\n",
       "    .dataframe thead th {\n",
       "        text-align: right;\n",
       "    }\n",
       "</style>\n",
       "<table border=\"1\" class=\"dataframe\">\n",
       "  <thead>\n",
       "    <tr style=\"text-align: right;\">\n",
       "      <th></th>\n",
       "      <th>Postal Code</th>\n",
       "      <th>Borough</th>\n",
       "      <th>Neighbourhood</th>\n",
       "    </tr>\n",
       "  </thead>\n",
       "  <tbody>\n",
       "  </tbody>\n",
       "</table>\n",
       "</div>"
      ],
      "text/plain": [
       "Empty DataFrame\n",
       "Columns: [Postal Code, Borough, Neighbourhood]\n",
       "Index: []"
      ]
     },
     "execution_count": 56,
     "metadata": {},
     "output_type": "execute_result"
    }
   ],
   "source": [
    "# convert dict to DataFrame\n",
    "df_table = pd.DataFrame(d)\n",
    "\n",
    "# Top 5 records\n",
    "df_table.head(5)"
   ]
  },
  {
   "cell_type": "code",
   "execution_count": 57,
   "metadata": {},
   "outputs": [],
   "source": [
    "import pandas as pd \n",
    "\n",
    "import requests \n",
    "\n",
    "from bs4 import BeautifulSoup \n",
    "\n",
    " \n",
    "\n",
    "req = requests.get(\"https://en.wikipedia.org/wiki/List_of_postal_codes_of_Canada:_M\") \n",
    "soup = BeautifulSoup(req.content,'lxml') \n",
    "table = soup.find_all('table')[0]  \n",
    "df = pd.read_html(str(table)) \n",
    "\n",
    "neighborhood=pd.DataFrame(df[0])"
   ]
  },
  {
   "cell_type": "code",
   "execution_count": 58,
   "metadata": {},
   "outputs": [
    {
     "data": {
      "text/html": [
       "<div>\n",
       "<style scoped>\n",
       "    .dataframe tbody tr th:only-of-type {\n",
       "        vertical-align: middle;\n",
       "    }\n",
       "\n",
       "    .dataframe tbody tr th {\n",
       "        vertical-align: top;\n",
       "    }\n",
       "\n",
       "    .dataframe thead th {\n",
       "        text-align: right;\n",
       "    }\n",
       "</style>\n",
       "<table border=\"1\" class=\"dataframe\">\n",
       "  <thead>\n",
       "    <tr style=\"text-align: right;\">\n",
       "      <th></th>\n",
       "      <th>Postal Code</th>\n",
       "      <th>Borough</th>\n",
       "      <th>Neighbourhood</th>\n",
       "    </tr>\n",
       "  </thead>\n",
       "  <tbody>\n",
       "    <tr>\n",
       "      <th>0</th>\n",
       "      <td>M1A</td>\n",
       "      <td>Not assigned</td>\n",
       "      <td>Not assigned</td>\n",
       "    </tr>\n",
       "    <tr>\n",
       "      <th>1</th>\n",
       "      <td>M2A</td>\n",
       "      <td>Not assigned</td>\n",
       "      <td>Not assigned</td>\n",
       "    </tr>\n",
       "    <tr>\n",
       "      <th>2</th>\n",
       "      <td>M3A</td>\n",
       "      <td>North York</td>\n",
       "      <td>Parkwoods</td>\n",
       "    </tr>\n",
       "    <tr>\n",
       "      <th>3</th>\n",
       "      <td>M4A</td>\n",
       "      <td>North York</td>\n",
       "      <td>Victoria Village</td>\n",
       "    </tr>\n",
       "    <tr>\n",
       "      <th>4</th>\n",
       "      <td>M5A</td>\n",
       "      <td>Downtown Toronto</td>\n",
       "      <td>Regent Park, Harbourfront</td>\n",
       "    </tr>\n",
       "    <tr>\n",
       "      <th>...</th>\n",
       "      <td>...</td>\n",
       "      <td>...</td>\n",
       "      <td>...</td>\n",
       "    </tr>\n",
       "    <tr>\n",
       "      <th>175</th>\n",
       "      <td>M5Z</td>\n",
       "      <td>Not assigned</td>\n",
       "      <td>Not assigned</td>\n",
       "    </tr>\n",
       "    <tr>\n",
       "      <th>176</th>\n",
       "      <td>M6Z</td>\n",
       "      <td>Not assigned</td>\n",
       "      <td>Not assigned</td>\n",
       "    </tr>\n",
       "    <tr>\n",
       "      <th>177</th>\n",
       "      <td>M7Z</td>\n",
       "      <td>Not assigned</td>\n",
       "      <td>Not assigned</td>\n",
       "    </tr>\n",
       "    <tr>\n",
       "      <th>178</th>\n",
       "      <td>M8Z</td>\n",
       "      <td>Etobicoke</td>\n",
       "      <td>Mimico NW, The Queensway West, South of Bloor,...</td>\n",
       "    </tr>\n",
       "    <tr>\n",
       "      <th>179</th>\n",
       "      <td>M9Z</td>\n",
       "      <td>Not assigned</td>\n",
       "      <td>Not assigned</td>\n",
       "    </tr>\n",
       "  </tbody>\n",
       "</table>\n",
       "<p>180 rows × 3 columns</p>\n",
       "</div>"
      ],
      "text/plain": [
       "    Postal Code           Borough  \\\n",
       "0           M1A      Not assigned   \n",
       "1           M2A      Not assigned   \n",
       "2           M3A        North York   \n",
       "3           M4A        North York   \n",
       "4           M5A  Downtown Toronto   \n",
       "..          ...               ...   \n",
       "175         M5Z      Not assigned   \n",
       "176         M6Z      Not assigned   \n",
       "177         M7Z      Not assigned   \n",
       "178         M8Z         Etobicoke   \n",
       "179         M9Z      Not assigned   \n",
       "\n",
       "                                         Neighbourhood  \n",
       "0                                         Not assigned  \n",
       "1                                         Not assigned  \n",
       "2                                            Parkwoods  \n",
       "3                                     Victoria Village  \n",
       "4                            Regent Park, Harbourfront  \n",
       "..                                                 ...  \n",
       "175                                       Not assigned  \n",
       "176                                       Not assigned  \n",
       "177                                       Not assigned  \n",
       "178  Mimico NW, The Queensway West, South of Bloor,...  \n",
       "179                                       Not assigned  \n",
       "\n",
       "[180 rows x 3 columns]"
      ]
     },
     "execution_count": 58,
     "metadata": {},
     "output_type": "execute_result"
    }
   ],
   "source": [
    "neighborhood"
   ]
  },
  {
   "cell_type": "code",
   "execution_count": null,
   "metadata": {},
   "outputs": [],
   "source": []
  }
 ],
 "metadata": {
  "kernelspec": {
   "display_name": "Python 3",
   "language": "python",
   "name": "python3"
  },
  "language_info": {
   "codemirror_mode": {
    "name": "ipython",
    "version": 3
   },
   "file_extension": ".py",
   "mimetype": "text/x-python",
   "name": "python",
   "nbconvert_exporter": "python",
   "pygments_lexer": "ipython3",
   "version": "3.8.5"
  }
 },
 "nbformat": 4,
 "nbformat_minor": 4
}
